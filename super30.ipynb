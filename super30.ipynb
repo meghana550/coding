{
  "nbformat": 4,
  "nbformat_minor": 0,
  "metadata": {
    "colab": {
      "provenance": [],
      "authorship_tag": "ABX9TyN7BEMy/N2jhm0Syl1A+qX7",
      "include_colab_link": true
    },
    "kernelspec": {
      "name": "python3",
      "display_name": "Python 3"
    },
    "language_info": {
      "name": "python"
    }
  },
  "cells": [
    {
      "cell_type": "markdown",
      "metadata": {
        "id": "view-in-github",
        "colab_type": "text"
      },
      "source": [
        "<a href=\"https://colab.research.google.com/github/meghana550/coding/blob/master/super30.ipynb\" target=\"_parent\"><img src=\"https://colab.research.google.com/assets/colab-badge.svg\" alt=\"Open In Colab\"/></a>"
      ]
    },
    {
      "cell_type": "code",
      "execution_count": null,
      "metadata": {
        "colab": {
          "base_uri": "https://localhost:8080/"
        },
        "id": "UfpwlBEiWC0d",
        "outputId": "ca29a852-3b0d-4e50-b70d-6500aa7cb83c"
      },
      "outputs": [
        {
          "output_type": "stream",
          "name": "stdout",
          "text": [
            "[9, 8, 1, 7, 2]\n"
          ]
        }
      ],
      "source": [
        "#converting double digits into single digits\n",
        "nums=[9,81,72]\n",
        "\n",
        "s=\"\"\n",
        "\n",
        "for i in nums:\n",
        "\n",
        "    s+=str(i)\n",
        "\n",
        "res=[]\n",
        "\n",
        "for i in s:\n",
        "\n",
        "    res.append(int(i))\n",
        "\n",
        "print(res)"
      ]
    },
    {
      "cell_type": "markdown",
      "source": [
        "printing 0's at the end"
      ],
      "metadata": {
        "id": "5NPJ1MYmbbu_"
      }
    },
    {
      "cell_type": "code",
      "source": [
        "nums=[0,1,2,4,0,8,0]\n",
        "n1=[]\n",
        "n2=[]\n",
        "for i in nums:\n",
        "    if i==0:\n",
        "        n1.append(i)\n",
        "    else:\n",
        "        n2.append(i)\n",
        "print(n2+n1)"
      ],
      "metadata": {
        "colab": {
          "base_uri": "https://localhost:8080/"
        },
        "id": "LPKx-NDXbWuc",
        "outputId": "497fdadc-30cb-4e17-bd6e-4edc47b21038"
      },
      "execution_count": null,
      "outputs": [
        {
          "output_type": "stream",
          "name": "stdout",
          "text": [
            "[1, 2, 4, 8, 0, 0, 0]\n"
          ]
        }
      ]
    },
    {
      "cell_type": "markdown",
      "source": [
        "checking the if condition statements"
      ],
      "metadata": {
        "id": "t9EZYgkvcqU6"
      }
    },
    {
      "cell_type": "code",
      "source": [
        "n=int(input())\n",
        "if n%2==0:\n",
        "  if n>6 and n<=20:\n",
        "    print(\"weired\")\n",
        "  else:\n",
        "    print(\"Not weired\")\n",
        "else:\n",
        "  print(\"weird\")"
      ],
      "metadata": {
        "colab": {
          "base_uri": "https://localhost:8080/"
        },
        "id": "JRGn3PiBbp9e",
        "outputId": "5abe4bec-5ea3-4998-80aa-6c4fcedcf697"
      },
      "execution_count": null,
      "outputs": [
        {
          "output_type": "stream",
          "name": "stdout",
          "text": [
            "8\n",
            "weired\n"
          ]
        }
      ]
    },
    {
      "cell_type": "markdown",
      "source": [
        "print 0's in the middle"
      ],
      "metadata": {
        "id": "oD5xu1SMXqb8"
      }
    },
    {
      "cell_type": "code",
      "source": [
        "nums=[0,1,2,4,0,8,0]\n",
        "n1=[]\n",
        "n2=[]\n",
        "for i in nums:\n",
        "  if i==0:\n",
        "    n1.append(i)\n",
        "  else:\n",
        "    n2.append(i)\n",
        "  k=int(len(n2)/2)\n",
        "  p=n2[:k]\n",
        "  p1=n2[k:]\n",
        "print(p+n1+p1)"
      ],
      "metadata": {
        "colab": {
          "base_uri": "https://localhost:8080/"
        },
        "id": "nCb3kJKOc6YA",
        "outputId": "d4610da6-d51e-4c29-b00b-5156df832329"
      },
      "execution_count": null,
      "outputs": [
        {
          "output_type": "stream",
          "name": "stdout",
          "text": [
            "[1, 2, 0, 0, 0, 4, 8]\n"
          ]
        }
      ]
    },
    {
      "cell_type": "markdown",
      "source": [
        "square of a number"
      ],
      "metadata": {
        "id": "YgYxmeSVYgh9"
      }
    },
    {
      "cell_type": "code",
      "source": [
        "n=int(input())\n",
        "for i in range(n+1):\n",
        "  print(i**2,end=\" \")"
      ],
      "metadata": {
        "colab": {
          "base_uri": "https://localhost:8080/"
        },
        "id": "VAoO92UwX3DJ",
        "outputId": "b61434b4-0d1f-4ab7-8f7c-f9925dca39b5"
      },
      "execution_count": 2,
      "outputs": [
        {
          "output_type": "stream",
          "name": "stdout",
          "text": [
            "2\n",
            "0 1 4 "
          ]
        }
      ]
    },
    {
      "cell_type": "markdown",
      "source": [
        "reverse string using split method"
      ],
      "metadata": {
        "id": "yBh8ONZwZ8dB"
      }
    },
    {
      "cell_type": "code",
      "source": [
        "s=\"welcome to india\".split()\n",
        "n=\" \"\n",
        "for i in s[::-1]:\n",
        "  n+=i+\" \"\n",
        "st=n[: -1]\n",
        "print(st)"
      ],
      "metadata": {
        "id": "E0WYj8YBYmxb",
        "outputId": "e61909ac-1fe5-4d11-84e6-1bb86bf1d251",
        "colab": {
          "base_uri": "https://localhost:8080/"
        }
      },
      "execution_count": 7,
      "outputs": [
        {
          "output_type": "stream",
          "name": "stdout",
          "text": [
            " india to welcome\n"
          ]
        }
      ]
    }
  ]
}