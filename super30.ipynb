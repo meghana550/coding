{
  "nbformat": 4,
  "nbformat_minor": 0,
  "metadata": {
    "colab": {
      "provenance": [],
      "authorship_tag": "ABX9TyNNdjk5IHj1b13e7HKic8w0",
      "include_colab_link": true
    },
    "kernelspec": {
      "name": "python3",
      "display_name": "Python 3"
    },
    "language_info": {
      "name": "python"
    }
  },
  "cells": [
    {
      "cell_type": "markdown",
      "metadata": {
        "id": "view-in-github",
        "colab_type": "text"
      },
      "source": [
        "<a href=\"https://colab.research.google.com/github/meghana550/coding/blob/master/super30.ipynb\" target=\"_parent\"><img src=\"https://colab.research.google.com/assets/colab-badge.svg\" alt=\"Open In Colab\"/></a>"
      ]
    },
    {
      "cell_type": "code",
      "execution_count": 1,
      "metadata": {
        "colab": {
          "base_uri": "https://localhost:8080/"
        },
        "id": "UfpwlBEiWC0d",
        "outputId": "ca29a852-3b0d-4e50-b70d-6500aa7cb83c"
      },
      "outputs": [
        {
          "output_type": "stream",
          "name": "stdout",
          "text": [
            "[9, 8, 1, 7, 2]\n"
          ]
        }
      ],
      "source": [
        "nums=[9,81,72]\n",
        "\n",
        "s=\"\"\n",
        "\n",
        "for i in nums:\n",
        "\n",
        "    s+=str(i)\n",
        "\n",
        "res=[]\n",
        "\n",
        "for i in s:\n",
        "\n",
        "    res.append(int(i))\n",
        "\n",
        "print(res)"
      ]
    }
  ]
}